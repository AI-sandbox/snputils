{
 "cells": [
  {
   "cell_type": "markdown",
   "metadata": {},
   "source": [
    "# Interactive demo of grg loading "
   ]
  },
  {
   "cell_type": "code",
   "execution_count": 1,
   "metadata": {},
   "outputs": [],
   "source": [
    "import os\n",
    "import sys\n",
    "import pygrgl as pyg\n",
    "dir = os.path.abspath('../')\n",
    "if not dir in sys.path: sys.path.insert(0,dir)\n",
    "\n"
   ]
  },
  {
   "cell_type": "code",
   "execution_count": 2,
   "metadata": {},
   "outputs": [],
   "source": [
    "\n",
    "from snputils.snp.io.read.vcf import VCFReader, VCFReaderPolars\n",
    "from snputils.snp.io.read.grg import GRGReader"
   ]
  },
  {
   "cell_type": "markdown",
   "metadata": {},
   "source": []
  },
  {
   "cell_type": "code",
   "execution_count": 3,
   "metadata": {},
   "outputs": [
    {
     "name": "stdout",
     "output_type": "stream",
     "text": [
      "['grg', 'construct', '-p', '50', '-j', '160', '-t', '16', '--out-file', '../grgl/test-200-samples.grg', '../grgl/test-200-samples.igd']\n"
     ]
    }
   ],
   "source": [
    "dummy_vcf = VCFReader(\"../grgl/test-200-samples.vcf\")\n",
    "dummy_vcf.to_grg()"
   ]
  },
  {
   "cell_type": "code",
   "execution_count": 4,
   "metadata": {},
   "outputs": [
    {
     "name": "stdout",
     "output_type": "stream",
     "text": [
      ".grg\n"
     ]
    }
   ],
   "source": [
    "chr22_grg = GRGReader(\"../grgl/chr22.grg\")\n",
    "sample_grg = chr22_grg.read(mutable=False)\n",
    "\n"
   ]
  },
  {
   "cell_type": "code",
   "execution_count": null,
   "metadata": {},
   "outputs": [],
   "source": [
    "chr22_vcf = VCFReaderPolars(\"../grgl/chr22.vcf.gz\")\n",
    "sample_vcf = chr22_vcf.read()"
   ]
  },
  {
   "cell_type": "markdown",
   "metadata": {},
   "source": [
    "# Allele Frequency calculation"
   ]
  },
  {
   "cell_type": "code",
   "execution_count": 5,
   "metadata": {},
   "outputs": [
    {
     "name": "stdout",
     "output_type": "stream",
     "text": [
      "0.2010660171508789\n"
     ]
    }
   ],
   "source": [
    "import time\n",
    "start = time.time()\n",
    "import numpy as np\n",
    "input = np.ones(sample_grg.num_samples) / sample_grg.num_samples\n",
    "result = pyg.dot_product(sample_grg, input, pyg.TraversalDirection.UP)\n",
    "end = time.time()\n",
    "print(end - start)"
   ]
  },
  {
   "cell_type": "code",
   "execution_count": 39,
   "metadata": {},
   "outputs": [
    {
     "name": "stdout",
     "output_type": "stream",
     "text": [
      "993881\n"
     ]
    }
   ],
   "source": [
    "print(len(result))"
   ]
  },
  {
   "cell_type": "markdown",
   "metadata": {},
   "source": [
    "```\n",
    "todo: \n",
    "merge grgs + show timing (using chr22)\n",
    "igd reader class (+ pyigd)\n",
    "   - interface with reader and writer, maybe output to snpobject\n",
    "tskit -> grg DONE\n",
    "vcf -> igd time && igd -> grg time DONE\n",
    "gwas and stats maybe? \n",
    "```"
   ]
  },
  {
   "cell_type": "code",
   "execution_count": null,
   "metadata": {},
   "outputs": [],
   "source": [
    "# mytree = tskit.load(\"sample.trees\")\n",
    "# mytree2 = mytree.dump(\"test.trees\")"
   ]
  },
  {
   "cell_type": "code",
   "execution_count": null,
   "metadata": {},
   "outputs": [],
   "source": [
    "trees_sample = GRGReader(\"../grgl/sample.trees\")\n",
    "trees_obj = trees_sample.read()\n"
   ]
  },
  {
   "cell_type": "code",
   "execution_count": 6,
   "metadata": {},
   "outputs": [
    {
     "data": {
      "text/plain": [
       "5096"
      ]
     },
     "execution_count": 6,
     "metadata": {},
     "output_type": "execute_result"
    }
   ],
   "source": [
    "len(sample_grg.get_sample_nodes())"
   ]
  },
  {
   "cell_type": "code",
   "execution_count": 10,
   "metadata": {},
   "outputs": [
    {
     "name": "stdout",
     "output_type": "stream",
     "text": [
      "5096\n"
     ]
    }
   ],
   "source": [
    "print(sample_grg.num_samples)\n",
    "res = sample_grg.get_node_mutation_pairs()"
   ]
  },
  {
   "cell_type": "code",
   "execution_count": 26,
   "metadata": {},
   "outputs": [
    {
     "data": {
      "text/plain": [
       "2548"
      ]
     },
     "execution_count": 26,
     "metadata": {},
     "output_type": "execute_result"
    }
   ],
   "source": [
    "sample_vcf.n_samples"
   ]
  },
  {
   "cell_type": "code",
   "execution_count": 27,
   "metadata": {},
   "outputs": [
    {
     "data": {
      "text/plain": [
       "5096"
      ]
     },
     "execution_count": 27,
     "metadata": {},
     "output_type": "execute_result"
    }
   ],
   "source": [
    "sample_grg.num_samples"
   ]
  },
  {
   "cell_type": "code",
   "execution_count": 9,
   "metadata": {},
   "outputs": [
    {
     "data": {
      "text/plain": [
       "993881"
      ]
     },
     "execution_count": 9,
     "metadata": {},
     "output_type": "execute_result"
    }
   ],
   "source": [
    "len(res)"
   ]
  },
  {
   "cell_type": "code",
   "execution_count": 30,
   "metadata": {},
   "outputs": [
    {
     "name": "stdout",
     "output_type": "stream",
     "text": [
      "[]\n"
     ]
    }
   ],
   "source": [
    "print(sample_grg.get_populations())"
   ]
  },
  {
   "cell_type": "code",
   "execution_count": 2,
   "metadata": {},
   "outputs": [
    {
     "name": "stdout",
     "output_type": "stream",
     "text": [
      "/data/tmp/tmpcbw2pjue\n"
     ]
    },
    {
     "name": "stderr",
     "output_type": "stream",
     "text": [
      "Construction took 1 ms\n",
      "Association took55 ms\n"
     ]
    }
   ],
   "source": [
    "from snputils.snp.genobj.grgobj import GRGObject\n",
    "a = GRGObject()\n",
    "my_df = a.gwas(\"../grgl/test.pheno\", \"../grgl/test-200-samples.grg\")"
   ]
  },
  {
   "cell_type": "code",
   "execution_count": 3,
   "metadata": {},
   "outputs": [
    {
     "name": "stdout",
     "output_type": "stream",
     "text": [
      "            BP  COUNT    BETA      B0      SE        R2       T       P\n",
      "0        55829    4.0 -0.1173  0.1173  0.1617  0.002652 -0.7256  0.4689\n",
      "1        56812    3.0 -0.1168  0.1168  0.1863  0.001979 -0.6266  0.5317\n",
      "2        57349    1.0 -0.1156  0.1156  0.3213  0.000653 -0.3597  0.7195\n",
      "3        58785   10.0  0.0895  0.1105  0.1038  0.003736  0.8617  0.3899\n",
      "4        59367    2.0 -0.1162  0.1162  0.2277  0.001313 -0.5101  0.6105\n",
      "...        ...    ...     ...     ...     ...       ...     ...     ...\n",
      "10888  9997601    3.0  0.5601  0.1066  0.1822  0.045537  3.0735  0.0024\n",
      "10889  9998038   21.0  0.0257  0.1123  0.0671  0.000738  0.3823  0.7027\n",
      "10890  9998412   42.0 -0.0223  0.1197  0.0526  0.000910 -0.4247  0.6715\n",
      "10891  9999031  295.0  0.0146  0.0935  0.0373  0.000769  0.3902  0.6968\n",
      "10892  9999126    2.0 -0.1162  0.1162  0.2277  0.001313 -0.5101  0.6105\n",
      "\n",
      "[10893 rows x 8 columns]\n"
     ]
    }
   ],
   "source": [
    "print(my_df)"
   ]
  }
 ],
 "metadata": {
  "kernelspec": {
   "display_name": ".venv",
   "language": "python",
   "name": ".venv"
  },
  "language_info": {
   "codemirror_mode": {
    "name": "ipython",
    "version": 3
   },
   "file_extension": ".py",
   "mimetype": "text/x-python",
   "name": "python",
   "nbconvert_exporter": "python",
   "pygments_lexer": "ipython3",
   "version": "3.10.12"
  }
 },
 "nbformat": 4,
 "nbformat_minor": 4
}
