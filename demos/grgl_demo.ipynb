{
 "cells": [
  {
   "cell_type": "markdown",
   "metadata": {},
   "source": [
    "# Interactive demo of grg loading "
   ]
  },
  {
   "cell_type": "code",
   "execution_count": 2,
   "metadata": {},
   "outputs": [],
   "source": [
    "import os\n",
    "import sys\n",
    "import pygrgl as pyg\n",
    "dir = os.path.abspath('../')\n",
    "if not dir in sys.path: sys.path.insert(0,dir)\n",
    "\n"
   ]
  },
  {
   "cell_type": "code",
   "execution_count": 3,
   "metadata": {},
   "outputs": [],
   "source": [
    "\n",
    "from snputils.snp.io.read.vcf import VCFReader, VCFReaderPolars\n",
    "from snputils.snp.io.read.grg import GRGReader"
   ]
  },
  {
   "cell_type": "markdown",
   "metadata": {},
   "source": [
    "# VCF -> IGD -> GRG"
   ]
  },
  {
   "cell_type": "code",
   "execution_count": 4,
   "metadata": {},
   "outputs": [
    {
     "name": "stdout",
     "output_type": "stream",
     "text": [
      "['grg', 'construct', '-p', '50', '-j', '160', '-t', '16', '--out-file', '../grgl/test-200-samples.grg', '../grgl/test-200-samples.igd']\n"
     ]
    }
   ],
   "source": [
    "dummy_vcf = VCFReader(\"../grgl/test-200-samples.vcf\")\n",
    "dummy_vcf.to_grg()"
   ]
  },
  {
   "cell_type": "markdown",
   "metadata": {},
   "source": [
    "Load in a GRG"
   ]
  },
  {
   "cell_type": "code",
   "execution_count": 5,
   "metadata": {},
   "outputs": [],
   "source": [
    "chr22_grg = GRGReader(\"../grgl/chr22.grg\")\n",
    "sample_grg = chr22_grg.read(mutable=False)\n",
    "\n"
   ]
  },
  {
   "cell_type": "code",
   "execution_count": 6,
   "metadata": {},
   "outputs": [],
   "source": [
    "\n",
    "# chr22_vcf = VCFReaderPolars(\"../grgl/chr22.vcf.gz\")\n",
    "# sample_vcf = chr22_vcf.read()"
   ]
  },
  {
   "cell_type": "markdown",
   "metadata": {},
   "source": [
    "# Allele Frequency calculation"
   ]
  },
  {
   "cell_type": "code",
   "execution_count": 8,
   "metadata": {},
   "outputs": [
    {
     "ename": "AttributeError",
     "evalue": "'NoneType' object has no attribute 'num_samples'",
     "output_type": "error",
     "traceback": [
      "\u001b[0;31m---------------------------------------------------------------------------\u001b[0m",
      "\u001b[0;31mAttributeError\u001b[0m                            Traceback (most recent call last)",
      "Cell \u001b[0;32mIn[8], line 3\u001b[0m\n\u001b[1;32m      1\u001b[0m \u001b[38;5;28;01mimport\u001b[39;00m\u001b[38;5;250m \u001b[39m\u001b[38;5;21;01mtime\u001b[39;00m\n\u001b[1;32m      2\u001b[0m start \u001b[38;5;241m=\u001b[39m time\u001b[38;5;241m.\u001b[39mtime()\n\u001b[0;32m----> 3\u001b[0m \u001b[43msample_grg\u001b[49m\u001b[38;5;241;43m.\u001b[39;49m\u001b[43mallele_freq\u001b[49m\u001b[43m(\u001b[49m\u001b[43m)\u001b[49m\n\u001b[1;32m      4\u001b[0m end \u001b[38;5;241m=\u001b[39m time\u001b[38;5;241m.\u001b[39mtime()\n\u001b[1;32m      5\u001b[0m \u001b[38;5;28mprint\u001b[39m(end \u001b[38;5;241m-\u001b[39m start)\n",
      "File \u001b[0;32m~/snputils_grgl/snputils/snp/genobj/grgobj.py:94\u001b[0m, in \u001b[0;36mGRGObject.allele_freq\u001b[0;34m(self)\u001b[0m\n\u001b[1;32m     92\u001b[0m \u001b[38;5;28;01mdef\u001b[39;00m\u001b[38;5;250m \u001b[39m\u001b[38;5;21mallele_freq\u001b[39m(\u001b[38;5;28mself\u001b[39m) \u001b[38;5;241m-\u001b[39m\u001b[38;5;241m>\u001b[39m np\u001b[38;5;241m.\u001b[39mndarray:\n\u001b[1;32m     93\u001b[0m     \u001b[38;5;66;03m# allele frequency array\u001b[39;00m\n\u001b[0;32m---> 94\u001b[0m     al_freq \u001b[38;5;241m=\u001b[39m np\u001b[38;5;241m.\u001b[39mones(\u001b[38;5;28;43mself\u001b[39;49m\u001b[38;5;241;43m.\u001b[39;49m\u001b[43mcalldata_gt\u001b[49m\u001b[38;5;241;43m.\u001b[39;49m\u001b[43mnum_samples\u001b[49m) \u001b[38;5;241m/\u001b[39m \u001b[38;5;28mself\u001b[39m\u001b[38;5;241m.\u001b[39mcalldata_gt\u001b[38;5;241m.\u001b[39mnum_samples\n\u001b[1;32m     95\u001b[0m     \u001b[38;5;28;01mreturn\u001b[39;00m pyg\u001b[38;5;241m.\u001b[39mdot_product(\u001b[38;5;28mself\u001b[39m\u001b[38;5;241m.\u001b[39mcalldata_gt, al_freq, pyg\u001b[38;5;241m.\u001b[39mTraversalDirection\u001b[38;5;241m.\u001b[39mUP)\n",
      "\u001b[0;31mAttributeError\u001b[0m: 'NoneType' object has no attribute 'num_samples'"
     ]
    }
   ],
   "source": [
    "import time\n",
    "start = time.time()\n",
    "sample_grg.allele_freq()\n",
    "end = time.time()\n",
    "print(end - start)"
   ]
  },
  {
   "cell_type": "markdown",
   "metadata": {},
   "source": [
    "```\n",
    "todo: \n",
    "\n",
    "   - interface with reader and writer, maybe output to snpobject\n",
    "tskit -> grg DONE\n",
    "vcf -> igd time && igd -> grg time DONE\n",
    "gwas and stats maybe?  DONE\n",
    "computing LD scores (low priority)\n",
    "match output with regenie/plink gwas \n",
    "merge grgs + show timing (using chr22)\n",
    "igd reader class (+ pyigd)\n",
    "UK biobank - try with array train data, then imputed?\n",
    "create a GWASObject / AssociationObject (spec TBD)\n",
    "   qqman (qqplot/manhattan)\n",
    "   similar to ancestry objects\n",
    "-- long term goal: PRS\n",
    "``` "
   ]
  },
  {
   "cell_type": "markdown",
   "metadata": {},
   "source": [
    "# Loading TSKit Sequences"
   ]
  },
  {
   "cell_type": "code",
   "execution_count": null,
   "metadata": {},
   "outputs": [],
   "source": [
    "trees_sample = GRGReader(\"../grgl/sample.trees\")\n",
    "trees_obj = trees_sample.read()\n"
   ]
  },
  {
   "cell_type": "code",
   "execution_count": null,
   "metadata": {},
   "outputs": [
    {
     "name": "stderr",
     "output_type": "stream",
     "text": [
      "Construction took 199 ms\n",
      "Association took5362 ms\n"
     ]
    },
    {
     "name": "stdout",
     "output_type": "stream",
     "text": [
      "/data/tmp/tmpgbrr1gpl\n"
     ]
    }
   ],
   "source": [
    "from snputils.snp.genobj.grgobj import GRGObject\n",
    "a = GRGObject()\n",
    "my_df = a.gwas(\"../grgl/chr22.pheno\", \"../grgl/chr22.grg\")"
   ]
  },
  {
   "cell_type": "code",
   "execution_count": 10,
   "metadata": {},
   "outputs": [
    {
     "data": {
      "text/html": [
       "<div>\n",
       "<style scoped>\n",
       "    .dataframe tbody tr th:only-of-type {\n",
       "        vertical-align: middle;\n",
       "    }\n",
       "\n",
       "    .dataframe tbody tr th {\n",
       "        vertical-align: top;\n",
       "    }\n",
       "\n",
       "    .dataframe thead th {\n",
       "        text-align: right;\n",
       "    }\n",
       "</style>\n",
       "<table border=\"1\" class=\"dataframe\">\n",
       "  <thead>\n",
       "    <tr style=\"text-align: right;\">\n",
       "      <th></th>\n",
       "      <th>BP</th>\n",
       "      <th>COUNT</th>\n",
       "      <th>BETA</th>\n",
       "      <th>B0</th>\n",
       "      <th>SE</th>\n",
       "      <th>R2</th>\n",
       "      <th>T</th>\n",
       "      <th>P</th>\n",
       "    </tr>\n",
       "  </thead>\n",
       "  <tbody>\n",
       "    <tr>\n",
       "      <th>0</th>\n",
       "      <td>10516173</td>\n",
       "      <td>121.0</td>\n",
       "      <td>0.0565</td>\n",
       "      <td>0.1005</td>\n",
       "      <td>0.0283</td>\n",
       "      <td>0.001559</td>\n",
       "      <td>1.9941</td>\n",
       "      <td>0.0463</td>\n",
       "    </tr>\n",
       "    <tr>\n",
       "      <th>1</th>\n",
       "      <td>10522217</td>\n",
       "      <td>86.0</td>\n",
       "      <td>0.1361</td>\n",
       "      <td>0.0986</td>\n",
       "      <td>0.0321</td>\n",
       "      <td>0.006994</td>\n",
       "      <td>4.2347</td>\n",
       "      <td>0.0000</td>\n",
       "    </tr>\n",
       "    <tr>\n",
       "      <th>2</th>\n",
       "      <td>10526445</td>\n",
       "      <td>4929.0</td>\n",
       "      <td>-0.0168</td>\n",
       "      <td>0.1358</td>\n",
       "      <td>0.0238</td>\n",
       "      <td>0.000197</td>\n",
       "      <td>-0.7087</td>\n",
       "      <td>0.4786</td>\n",
       "    </tr>\n",
       "    <tr>\n",
       "      <th>3</th>\n",
       "      <td>10527034</td>\n",
       "      <td>275.0</td>\n",
       "      <td>0.0834</td>\n",
       "      <td>0.0942</td>\n",
       "      <td>0.0180</td>\n",
       "      <td>0.008346</td>\n",
       "      <td>4.6289</td>\n",
       "      <td>0.0000</td>\n",
       "    </tr>\n",
       "    <tr>\n",
       "      <th>4</th>\n",
       "      <td>10527038</td>\n",
       "      <td>208.0</td>\n",
       "      <td>-0.0597</td>\n",
       "      <td>0.1081</td>\n",
       "      <td>0.0210</td>\n",
       "      <td>0.003154</td>\n",
       "      <td>-2.8382</td>\n",
       "      <td>0.0046</td>\n",
       "    </tr>\n",
       "    <tr>\n",
       "      <th>...</th>\n",
       "      <td>...</td>\n",
       "      <td>...</td>\n",
       "      <td>...</td>\n",
       "      <td>...</td>\n",
       "      <td>...</td>\n",
       "      <td>...</td>\n",
       "      <td>...</td>\n",
       "      <td>...</td>\n",
       "    </tr>\n",
       "    <tr>\n",
       "      <th>993876</th>\n",
       "      <td>50799907</td>\n",
       "      <td>1.0</td>\n",
       "      <td>-0.1033</td>\n",
       "      <td>0.1033</td>\n",
       "      <td>0.3044</td>\n",
       "      <td>0.000045</td>\n",
       "      <td>-0.3392</td>\n",
       "      <td>0.7345</td>\n",
       "    </tr>\n",
       "    <tr>\n",
       "      <th>993877</th>\n",
       "      <td>50807819</td>\n",
       "      <td>23.0</td>\n",
       "      <td>-0.0603</td>\n",
       "      <td>0.1038</td>\n",
       "      <td>0.0637</td>\n",
       "      <td>0.000351</td>\n",
       "      <td>-0.9458</td>\n",
       "      <td>0.3444</td>\n",
       "    </tr>\n",
       "    <tr>\n",
       "      <th>993878</th>\n",
       "      <td>50807843</td>\n",
       "      <td>0.0</td>\n",
       "      <td>0.0000</td>\n",
       "      <td>0.0000</td>\n",
       "      <td>0.0000</td>\n",
       "      <td>0.000000</td>\n",
       "      <td>0.0000</td>\n",
       "      <td>0.0000</td>\n",
       "    </tr>\n",
       "    <tr>\n",
       "      <th>993879</th>\n",
       "      <td>50807859</td>\n",
       "      <td>3.0</td>\n",
       "      <td>0.2304</td>\n",
       "      <td>0.1029</td>\n",
       "      <td>0.1758</td>\n",
       "      <td>0.000674</td>\n",
       "      <td>1.3107</td>\n",
       "      <td>0.1901</td>\n",
       "    </tr>\n",
       "    <tr>\n",
       "      <th>993880</th>\n",
       "      <td>50807862</td>\n",
       "      <td>1.0</td>\n",
       "      <td>-0.1033</td>\n",
       "      <td>0.1033</td>\n",
       "      <td>0.3044</td>\n",
       "      <td>0.000045</td>\n",
       "      <td>-0.3392</td>\n",
       "      <td>0.7345</td>\n",
       "    </tr>\n",
       "  </tbody>\n",
       "</table>\n",
       "<p>993881 rows × 8 columns</p>\n",
       "</div>"
      ],
      "text/plain": [
       "              BP   COUNT    BETA      B0      SE        R2       T       P\n",
       "0       10516173   121.0  0.0565  0.1005  0.0283  0.001559  1.9941  0.0463\n",
       "1       10522217    86.0  0.1361  0.0986  0.0321  0.006994  4.2347  0.0000\n",
       "2       10526445  4929.0 -0.0168  0.1358  0.0238  0.000197 -0.7087  0.4786\n",
       "3       10527034   275.0  0.0834  0.0942  0.0180  0.008346  4.6289  0.0000\n",
       "4       10527038   208.0 -0.0597  0.1081  0.0210  0.003154 -2.8382  0.0046\n",
       "...          ...     ...     ...     ...     ...       ...     ...     ...\n",
       "993876  50799907     1.0 -0.1033  0.1033  0.3044  0.000045 -0.3392  0.7345\n",
       "993877  50807819    23.0 -0.0603  0.1038  0.0637  0.000351 -0.9458  0.3444\n",
       "993878  50807843     0.0  0.0000  0.0000  0.0000  0.000000  0.0000  0.0000\n",
       "993879  50807859     3.0  0.2304  0.1029  0.1758  0.000674  1.3107  0.1901\n",
       "993880  50807862     1.0 -0.1033  0.1033  0.3044  0.000045 -0.3392  0.7345\n",
       "\n",
       "[993881 rows x 8 columns]"
      ]
     },
     "execution_count": 10,
     "metadata": {},
     "output_type": "execute_result"
    }
   ],
   "source": [
    "my_df"
   ]
  },
  {
   "cell_type": "code",
   "execution_count": 1,
   "metadata": {
    "vscode": {
     "languageId": "shellscript"
    }
   },
   "outputs": [
    {
     "ename": "SyntaxError",
     "evalue": "invalid syntax (3028420712.py, line 1)",
     "output_type": "error",
     "traceback": [
      "\u001b[0;36m  Cell \u001b[0;32mIn[1], line 1\u001b[0;36m\u001b[0m\n\u001b[0;31m    grg convert /private/groups/ioannidislab/ukbb24983/imp/pgen/ukb_imp_chr22_v3.bgen ./ukb_imp_chr22_v3.grg\u001b[0m\n\u001b[0m        ^\u001b[0m\n\u001b[0;31mSyntaxError\u001b[0m\u001b[0;31m:\u001b[0m invalid syntax\n"
     ]
    }
   ],
   "source": [
    "grg convert /private/groups/ioannidislab/ukbb24983/imp/pgen/ukb_imp_chr22_v3.bgen ./ukb_imp_chr22_v3.grg"
   ]
  }
 ],
 "metadata": {
  "kernelspec": {
   "display_name": ".venv",
   "language": "python",
   "name": "python3"
  },
  "language_info": {
   "codemirror_mode": {
    "name": "ipython",
    "version": 3
   },
   "file_extension": ".py",
   "mimetype": "text/x-python",
   "name": "python",
   "nbconvert_exporter": "python",
   "pygments_lexer": "ipython3",
   "version": "3.10.12"
  }
 },
 "nbformat": 4,
 "nbformat_minor": 4
}
